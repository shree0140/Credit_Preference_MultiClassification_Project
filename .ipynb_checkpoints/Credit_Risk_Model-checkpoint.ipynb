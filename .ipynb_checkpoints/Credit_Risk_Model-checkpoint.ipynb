{
 "cells": [
  {
   "cell_type": "markdown",
   "id": "3b0cbb06",
   "metadata": {},
   "source": [
    "# Import libraries:"
   ]
  },
  {
   "cell_type": "code",
   "execution_count": 1,
   "id": "8cbafd96",
   "metadata": {},
   "outputs": [],
   "source": [
    "\n",
    "!pip install xgboost\n",
    "\n",
    "import numpy as np\n",
    "import pandas as pd\n",
    "import matplotlib.pyplot as plt\n",
    "from sklearn.metrics import r2_score\n",
    "from scipy.stats import chi2_contingency\n",
    "from statsmodels.stats.outliers_influence import variance_inflation_factor\n",
    "from sklearn.model_selection import train_test_split\n",
    "from sklearn.ensemble import RandomForestClassifier\n",
    "from sklearn.metrics import accuracy_score, classification_report, precision_recall_fscore_support\n",
    "import warnings\n",
    "import os\n",
    "import time "
   ]
  },
  {
   "cell_type": "code",
   "execution_count": 2,
   "id": "b7cca94d",
   "metadata": {},
   "outputs": [],
   "source": [
    "print(\"Program is running....\")\n",
    "print()\n",
    "start_time = time.time()"
   ]
  },
  {
   "cell_type": "code",
   "execution_count": 3,
   "id": "93a3b8b4",
   "metadata": {},
   "outputs": [],
   "source": [
    "# Load the dataset\n",
    "\n",
    "a1 = pd.read_excel(\"internal_product_CRM.xlsx\")\n",
    "a2 = pd.read_excel(\"Cibil_dataset_CRM.xlsx\")"
   ]
  },
  {
   "cell_type": "code",
   "execution_count": 4,
   "id": "1cdddf1b",
   "metadata": {},
   "outputs": [],
   "source": [
    "df1 = a1.copy()\n",
    "df2 = a2.copy()\n"
   ]
  },
  {
   "cell_type": "code",
   "execution_count": 5,
   "id": "23a609b2",
   "metadata": {},
   "outputs": [],
   "source": [
    "# Remove nulls\n",
    "\n",
    "df1 = df1.loc[df1['Age_Oldest_TL'] != -99999]"
   ]
  },
  {
   "cell_type": "code",
   "execution_count": 6,
   "id": "7769bade",
   "metadata": {},
   "outputs": [],
   "source": [
    "columns_to_be_removed = []\n",
    "\n",
    "for i in df2.columns:\n",
    "    if df2.loc[df2[i] == -99999].shape[0] > 10000:\n",
    "        columns_to_be_removed .append(i)"
   ]
  },
  {
   "cell_type": "code",
   "execution_count": 7,
   "id": "97225d74",
   "metadata": {},
   "outputs": [],
   "source": [
    "df2 = df2.drop(columns_to_be_removed, axis =1)"
   ]
  },
  {
   "cell_type": "code",
   "execution_count": 8,
   "id": "972d83e6",
   "metadata": {},
   "outputs": [],
   "source": [
    "for i in df2.columns:\n",
    "    df2 = df2.loc[ df2[i] != -99999 ]"
   ]
  },
  {
   "cell_type": "code",
   "execution_count": 9,
   "id": "b91cfad5",
   "metadata": {},
   "outputs": [],
   "source": [
    "# Checking common column names\n",
    "\n",
    "for i in list(df1.columns):\n",
    "    if i in list(df2.columns):\n",
    "        print (i)"
   ]
  },
  {
   "cell_type": "code",
   "execution_count": 10,
   "id": "af34894c",
   "metadata": {},
   "outputs": [],
   "source": [
    "# Merge the two dataframes, inner join so that no nulls are present\n",
    "\n",
    "df = pd. merge ( df1, df2, how ='inner', left_on = ['PROSPECTID'], right_on = ['PROSPECTID'] )"
   ]
  },
  {
   "cell_type": "code",
   "execution_count": 11,
   "id": "9171e352",
   "metadata": {},
   "outputs": [],
   "source": [
    "# check how many columns are categorical\n",
    "\n",
    "for i in df.columns:\n",
    "    if df[i].dtype == 'object':\n",
    "        print(i)"
   ]
  },
  {
   "cell_type": "code",
   "execution_count": 12,
   "id": "1d9de9f6",
   "metadata": {},
   "outputs": [],
   "source": [
    "# Chi-square test\n",
    "\n",
    "for i in ['MARITALSTATUS', 'EDUCATION', 'GENDER', 'last_prod_enq2', 'first_prod_enq2']:\n",
    "    chi2, pval, _, _ = chi2_contingency(pd.crosstab(df[i], df['Approved_Flag']))\n",
    "    print(i, '---', pval)"
   ]
  },
  {
   "cell_type": "markdown",
   "id": "4c6f9e6d",
   "metadata": {},
   "source": [
    "- Since all the categorical features have pval <=0.05, we will accept all"
   ]
  },
  {
   "cell_type": "code",
   "execution_count": 13,
   "id": "d6a19fe2",
   "metadata": {},
   "outputs": [],
   "source": [
    "# VIF for numerical columns\n",
    "\n",
    "numeric_columns = []\n",
    "for i in df.columns:\n",
    "    if df[i].dtype != 'object' and i not in ['PROSPECTID','Approved_Flag']:\n",
    "        numeric_columns.append(i)"
   ]
  },
  {
   "cell_type": "code",
   "execution_count": 14,
   "id": "3a52787d",
   "metadata": {},
   "outputs": [],
   "source": [
    "# VIF sequentially check\n",
    "\n",
    "vif_data = df[numeric_columns]\n",
    "total_columns = vif_data.shape[1]\n",
    "columns_to_be_kept = []\n",
    "column_index = 0"
   ]
  },
  {
   "cell_type": "code",
   "execution_count": 15,
   "id": "ff0db8ab",
   "metadata": {},
   "outputs": [],
   "source": [
    "for i in range (0,total_columns):\n",
    "    \n",
    "    vif_value = variance_inflation_factor(vif_data, column_index)\n",
    "    print (column_index,'---',vif_value)\n",
    "    \n",
    "    \n",
    "    if vif_value <= 6:\n",
    "        columns_to_be_kept.append( numeric_columns[i] )\n",
    "        column_index = column_index+1\n",
    "    \n",
    "    else:\n",
    "        vif_data = vif_data.drop([ numeric_columns[i] ] , axis=1)"
   ]
  },
  {
   "cell_type": "code",
   "execution_count": 16,
   "id": "303f4f0c",
   "metadata": {},
   "outputs": [],
   "source": [
    "# check Anova for columns_to_be_kept \n",
    "\n",
    "from scipy.stats import f_oneway\n",
    "\n",
    "columns_to_be_kept_numerical = []\n",
    "\n",
    "for i in columns_to_be_kept:\n",
    "    a = list(df[i])  \n",
    "    b = list(df['Approved_Flag'])  \n",
    "    \n",
    "    group_P1 = [value for value, group in zip(a, b) if group == 'P1']\n",
    "    group_P2 = [value for value, group in zip(a, b) if group == 'P2']\n",
    "    group_P3 = [value for value, group in zip(a, b) if group == 'P3']\n",
    "    group_P4 = [value for value, group in zip(a, b) if group == 'P4']\n",
    "\n",
    "\n",
    "    f_statistic, p_value = f_oneway(group_P1, group_P2, group_P3, group_P4)\n",
    "\n",
    "    if p_value <= 0.05:\n",
    "        columns_to_be_kept_numerical.append(i)"
   ]
  },
  {
   "cell_type": "code",
   "execution_count": 17,
   "id": "62554706",
   "metadata": {},
   "outputs": [],
   "source": [
    "print(columns_to_be_kept_numerical )"
   ]
  },
  {
   "cell_type": "markdown",
   "id": "e6bc0882",
   "metadata": {},
   "source": [
    "-  feature selection is done for cat and num features"
   ]
  },
  {
   "cell_type": "code",
   "execution_count": 18,
   "id": "2ef9df15",
   "metadata": {},
   "outputs": [],
   "source": [
    "# listing all the final features\n",
    "\n",
    "features = columns_to_be_kept_numerical + ['MARITALSTATUS', 'EDUCATION', 'GENDER', 'last_prod_enq2', 'first_prod_enq2']\n",
    "\n",
    "df = df[features + ['Approved_Flag']]\n"
   ]
  },
  {
   "cell_type": "code",
   "execution_count": 19,
   "id": "bf2772bf",
   "metadata": {},
   "outputs": [],
   "source": [
    "# Label encoding for the categorical features\n",
    "\n",
    "['MARITALSTATUS', 'EDUCATION', 'GENDER' , 'last_prod_enq2' ,'first_prod_enq2']"
   ]
  },
  {
   "cell_type": "code",
   "execution_count": 20,
   "id": "c1206d74",
   "metadata": {},
   "outputs": [],
   "source": [
    "df['MARITALSTATUS'].unique()    \n"
   ]
  },
  {
   "cell_type": "code",
   "execution_count": 21,
   "id": "3716620a",
   "metadata": {},
   "outputs": [],
   "source": [
    "df['EDUCATION'].unique()\n"
   ]
  },
  {
   "cell_type": "code",
   "execution_count": 22,
   "id": "fc2f78e3",
   "metadata": {},
   "outputs": [],
   "source": [
    "df['GENDER'].unique()\n"
   ]
  },
  {
   "cell_type": "code",
   "execution_count": 23,
   "id": "22a0c304",
   "metadata": {},
   "outputs": [],
   "source": [
    "df['last_prod_enq2'].unique()\n"
   ]
  },
  {
   "cell_type": "code",
   "execution_count": 24,
   "id": "eee73090",
   "metadata": {},
   "outputs": [],
   "source": [
    "df['first_prod_enq2'].unique()"
   ]
  },
  {
   "cell_type": "code",
   "execution_count": 25,
   "id": "04966a75",
   "metadata": {},
   "outputs": [],
   "source": [
    "# Ordinal feature -- EDUCATION\n",
    "# SSC            : 1\n",
    "# 12TH           : 2\n",
    "# GRADUATE       : 3\n",
    "# UNDER GRADUATE : 3\n",
    "# POST-GRADUATE  : 4\n",
    "# OTHERS         : 1\n",
    "# PROFESSIONAL   : 3"
   ]
  },
  {
   "cell_type": "code",
   "execution_count": 26,
   "id": "35af7cf3",
   "metadata": {},
   "outputs": [],
   "source": [
    "df.loc[df['EDUCATION'] == 'SSC',['EDUCATION']]              = 1\n",
    "df.loc[df['EDUCATION'] == '12TH',['EDUCATION']]             = 2\n",
    "df.loc[df['EDUCATION'] == 'GRADUATE',['EDUCATION']]         = 3\n",
    "df.loc[df['EDUCATION'] == 'UNDER GRADUATE',['EDUCATION']]   = 3\n",
    "df.loc[df['EDUCATION'] == 'POST-GRADUATE',['EDUCATION']]    = 4\n",
    "df.loc[df['EDUCATION'] == 'OTHERS',['EDUCATION']]           = 1\n",
    "df.loc[df['EDUCATION'] == 'PROFESSIONAL',['EDUCATION']]     = 3"
   ]
  },
  {
   "cell_type": "code",
   "execution_count": 27,
   "id": "9fe692e7",
   "metadata": {},
   "outputs": [],
   "source": [
    "df['EDUCATION'].value_counts()"
   ]
  },
  {
   "cell_type": "code",
   "execution_count": 28,
   "id": "be76e01f",
   "metadata": {},
   "outputs": [],
   "source": [
    "\n",
    "df['EDUCATION'] = df['EDUCATION'].astype(int)\n",
    "df.info()"
   ]
  },
  {
   "cell_type": "code",
   "execution_count": 29,
   "id": "d65e4386",
   "metadata": {},
   "outputs": [],
   "source": [
    "df_encoded = pd.get_dummies(df, columns=['MARITALSTATUS','GENDER', 'last_prod_enq2' ,'first_prod_enq2'])"
   ]
  },
  {
   "cell_type": "code",
   "execution_count": 30,
   "id": "3d37601c",
   "metadata": {},
   "outputs": [],
   "source": [
    "df_encoded.info()"
   ]
  },
  {
   "cell_type": "code",
   "execution_count": 31,
   "id": "ffe6f7b9",
   "metadata": {},
   "outputs": [],
   "source": [
    "k = df_encoded.describe()"
   ]
  },
  {
   "cell_type": "markdown",
   "id": "75c6bf2f",
   "metadata": {},
   "source": [
    "### Machine Learing model fitting\n",
    "- Data processing"
   ]
  },
  {
   "cell_type": "markdown",
   "id": "e52b2745",
   "metadata": {},
   "source": [
    "### 1. Random Forest"
   ]
  },
  {
   "cell_type": "code",
   "execution_count": 32,
   "id": "10ec2400",
   "metadata": {},
   "outputs": [],
   "source": [
    "\n",
    "\n",
    "y = df_encoded['Approved_Flag']\n",
    "x = df_encoded. drop ( ['Approved_Flag'], axis = 1 )\n",
    "\n",
    "\n",
    "x_train, x_test, y_train, y_test = train_test_split(x, y, test_size=0.2, random_state=42)\n",
    "rf_classifier = RandomForestClassifier(n_estimators = 200, random_state=42)\n",
    "rf_classifier.fit(x_train, y_train)\n",
    "y_pred = rf_classifier.predict(x_test)\n",
    "\n",
    "\n",
    "\n",
    "accuracy = accuracy_score(y_test, y_pred)\n",
    "print ()\n",
    "print(f'Accuracy: {accuracy}')\n",
    "print ()\n",
    "precision, recall, f1_score, _ = precision_recall_fscore_support(y_test, y_pred)\n",
    "\n",
    "\n",
    "for i, v in enumerate(['p1', 'p2', 'p3', 'p4']):\n",
    "    print(f\"Class {v}:\")\n",
    "    print(f\"Precision: {precision[i]}\")\n",
    "    print(f\"Recall: {recall[i]}\")\n",
    "    print(f\"F1 Score: {f1_score[i]}\")\n",
    "    print()"
   ]
  },
  {
   "cell_type": "markdown",
   "id": "37f2b653",
   "metadata": {},
   "source": [
    "## 2. xgboost"
   ]
  },
  {
   "cell_type": "code",
   "execution_count": 33,
   "id": "706449c2",
   "metadata": {},
   "outputs": [],
   "source": [
    "\n",
    "\n",
    "import xgboost as xgb\n",
    "from sklearn.preprocessing import LabelEncoder\n",
    "\n",
    "xgb_classifier = xgb.XGBClassifier(objective='multi:softmax',  num_class=4)\n",
    "\n",
    "\n",
    "\n",
    "y = df_encoded['Approved_Flag']\n",
    "x = df_encoded. drop ( ['Approved_Flag'], axis = 1 )\n",
    "\n",
    "\n",
    "label_encoder = LabelEncoder()\n",
    "y_encoded = label_encoder.fit_transform(y)\n",
    "\n",
    "\n",
    "x_train, x_test, y_train, y_test = train_test_split(x, y_encoded, test_size=0.2, random_state=42)\n",
    "\n",
    "\n",
    "\n",
    "\n",
    "xgb_classifier.fit(x_train, y_train)\n",
    "y_pred = xgb_classifier.predict(x_test)\n",
    "\n",
    "accuracy = accuracy_score(y_test, y_pred)\n",
    "print ()\n",
    "print(f'Accuracy: {accuracy:.2f}')\n",
    "print ()\n",
    "\n",
    "precision, recall, f1_score, _ = precision_recall_fscore_support(y_test, y_pred)\n",
    "\n",
    "for i, v in enumerate(['p1', 'p2', 'p3', 'p4']):\n",
    "    print(f\"Class {v}:\")\n",
    "    print(f\"Precision: {precision[i]}\")\n",
    "    print(f\"Recall: {recall[i]}\")\n",
    "    print(f\"F1 Score: {f1_score[i]}\")\n",
    "    print()"
   ]
  },
  {
   "cell_type": "markdown",
   "id": "4c9f89d7",
   "metadata": {},
   "source": [
    "## 3. Decision Tree"
   ]
  },
  {
   "cell_type": "code",
   "execution_count": 34,
   "id": "6dedca34",
   "metadata": {},
   "outputs": [],
   "source": [
    "\n",
    "from sklearn.tree import DecisionTreeClassifier\n",
    "\n",
    "\n",
    "y = df_encoded['Approved_Flag']\n",
    "x = df_encoded. drop ( ['Approved_Flag'], axis = 1 )\n",
    "\n",
    "x_train, x_test, y_train, y_test = train_test_split(x, y, test_size=0.2, random_state=42)\n",
    "\n",
    "\n",
    "dt_model = DecisionTreeClassifier(max_depth=20, min_samples_split=10)\n",
    "dt_model.fit(x_train, y_train)\n",
    "y_pred = dt_model.predict(x_test)\n",
    "\n",
    "accuracy = accuracy_score(y_test, y_pred)\n",
    "print ()\n",
    "print(f\"Accuracy: {accuracy:.2f}\")\n",
    "print ()\n",
    "\n",
    "precision, recall, f1_score, _ = precision_recall_fscore_support(y_test, y_pred)\n",
    "\n",
    "for i, v in enumerate(['p1', 'p2', 'p3', 'p4']):\n",
    "    print(f\"Class {v}:\")\n",
    "    print(f\"Precision: {precision[i]}\")\n",
    "    print(f\"Recall: {recall[i]}\")\n",
    "    print(f\"F1 Score: {f1_score[i]}\")\n",
    "    print()"
   ]
  },
  {
   "cell_type": "markdown",
   "id": "097ee693",
   "metadata": {},
   "source": [
    "### - xgboost is giving best results,thus further finetuning it."
   ]
  },
  {
   "cell_type": "code",
   "execution_count": 35,
   "id": "9da984f2",
   "metadata": {},
   "outputs": [],
   "source": [
    "# Applying standard scaler \n",
    "\n",
    "from sklearn.preprocessing import StandardScaler\n",
    "\n",
    "columns_to_be_scaled = ['Age_Oldest_TL','Age_Newest_TL','time_since_recent_payment',\n",
    "'max_recent_level_of_deliq','recent_level_of_deliq',\n",
    "'time_since_recent_enq','NETMONTHLYINCOME','Time_With_Curr_Empr']\n",
    "\n",
    "for i in columns_to_be_scaled:\n",
    "    column_data = df_encoded[i].values.reshape(-1, 1)\n",
    "    scaler = StandardScaler()\n",
    "    scaled_column = scaler.fit_transform(column_data)\n",
    "    df_encoded[i] = scaled_column"
   ]
  },
  {
   "cell_type": "code",
   "execution_count": 36,
   "id": "657e82df",
   "metadata": {},
   "outputs": [],
   "source": [
    "import xgboost as xgb\n",
    "from sklearn.preprocessing import LabelEncoder\n",
    "\n",
    "xgb_classifier = xgb.XGBClassifier(objective='multi:softmax',  num_class=4)\n",
    "\n",
    "y = df_encoded['Approved_Flag']\n",
    "x = df_encoded. drop ( ['Approved_Flag'], axis = 1 )\n",
    "\n",
    "\n",
    "label_encoder = LabelEncoder()\n",
    "y_encoded = label_encoder.fit_transform(y)\n",
    "\n",
    "x_train, x_test, y_train, y_test = train_test_split(x, y_encoded, test_size=0.2, random_state=42)\n",
    "\n",
    "\n",
    "xgb_classifier.fit(x_train, y_train)\n",
    "y_pred = xgb_classifier.predict(x_test)\n",
    "\n",
    "\n",
    "accuracy = accuracy_score(y_test, y_pred)\n",
    "print(f'Accuracy: {accuracy:.2f}')"
   ]
  },
  {
   "cell_type": "code",
   "execution_count": 37,
   "id": "d1cba095",
   "metadata": {},
   "outputs": [],
   "source": [
    "precision, recall, f1_score, _ = precision_recall_fscore_support(y_test, y_pred)"
   ]
  },
  {
   "cell_type": "code",
   "execution_count": 38,
   "id": "7989cc93",
   "metadata": {},
   "outputs": [],
   "source": [
    "for i, v in enumerate(['p1', 'p2', 'p3', 'p4']):\n",
    "    print(f\"Class {v}:\")\n",
    "    print(f\"Precision: {precision[i]}\")\n",
    "    print(f\"Recall: {recall[i]}\")\n",
    "    print(f\"F1 Score: {f1_score[i]}\")\n",
    "    print()"
   ]
  },
  {
   "cell_type": "markdown",
   "id": "91da793e",
   "metadata": {},
   "source": [
    "- No improvement in metrices"
   ]
  },
  {
   "cell_type": "code",
   "execution_count": 39,
   "id": "76de717e",
   "metadata": {},
   "outputs": [],
   "source": [
    "# Hyperparameter tuning in xgboost\n",
    "\n",
    "from sklearn.model_selection import GridSearchCV\n",
    "x_train, x_test, y_train, y_test = train_test_split(x, y_encoded, test_size=0.2, random_state=42)"
   ]
  },
  {
   "cell_type": "code",
   "execution_count": 40,
   "id": "66d781a1",
   "metadata": {},
   "outputs": [],
   "source": [
    "# Define the XGBClassifier with the initial set of hyperparameters\n",
    "\n",
    "xgb_model = xgb.XGBClassifier(objective='multi:softmax', num_class=4)"
   ]
  },
  {
   "cell_type": "code",
   "execution_count": 41,
   "id": "82716c7b",
   "metadata": {},
   "outputs": [],
   "source": [
    "# Define the parameter grid for hyperparameter tuning\n",
    "\n",
    "param_grid = {\n",
    "    'n_estimators': [50, 100, 200],\n",
    "    'max_depth': [3, 5, 7],\n",
    "    'learning_rate': [0.01, 0.1, 0.2],\n",
    "}"
   ]
  },
  {
   "cell_type": "code",
   "execution_count": 42,
   "id": "8c64a4b5",
   "metadata": {},
   "outputs": [],
   "source": [
    "grid_search = GridSearchCV(estimator=xgb_model, param_grid=param_grid, cv=3, scoring='accuracy', n_jobs=-1)\n",
    "grid_search.fit(x_train, y_train)"
   ]
  },
  {
   "cell_type": "code",
   "execution_count": 43,
   "id": "300e1f48",
   "metadata": {},
   "outputs": [],
   "source": [
    "# Print the best hyperparameters\n",
    "\n",
    "print(\"Best Hyperparameters:\", grid_search.best_params_)"
   ]
  },
  {
   "cell_type": "code",
   "execution_count": 44,
   "id": "497c1281",
   "metadata": {},
   "outputs": [],
   "source": [
    "# Evaluate the model with the best hyperparameters on the test set\n",
    "\n",
    "best_model = grid_search.best_estimator_\n",
    "accuracy = best_model.score(x_test, y_test)\n",
    "print(\"Test Accuracy:\", accuracy)"
   ]
  },
  {
   "cell_type": "markdown",
   "id": "4de2c901",
   "metadata": {},
   "source": [
    "- Best Hyperparameters: {'learning_rate': 0.2, 'max_depth': 3, 'n_estimators': 200}"
   ]
  },
  {
   "cell_type": "markdown",
   "id": "7d4a9b71",
   "metadata": {},
   "source": [
    "- Checking the model with UNSEEN data"
   ]
  },
  {
   "cell_type": "code",
   "execution_count": 45,
   "id": "ffdb5f18",
   "metadata": {},
   "outputs": [],
   "source": [
    "a3 = pd.read_excel(\"Unseen_Dataset.xlsx\")"
   ]
  },
  {
   "cell_type": "code",
   "execution_count": 46,
   "id": "47101ab4",
   "metadata": {},
   "outputs": [],
   "source": [
    "cols_in_df = list(df.columns)\n",
    "cols_in_df.pop(42)"
   ]
  },
  {
   "cell_type": "code",
   "execution_count": 47,
   "id": "48c6ba43",
   "metadata": {},
   "outputs": [],
   "source": [
    "df_unseen = a3[cols_in_df] "
   ]
  },
  {
   "cell_type": "code",
   "execution_count": 48,
   "id": "f5e3cd1f",
   "metadata": {},
   "outputs": [],
   "source": [
    "df_unseen.columns"
   ]
  },
  {
   "cell_type": "code",
   "execution_count": 49,
   "id": "9ce29ab9",
   "metadata": {},
   "outputs": [],
   "source": [
    "df_unseen['MARITALSTATUS'].unique()    "
   ]
  },
  {
   "cell_type": "code",
   "execution_count": 50,
   "id": "68f8c3f6",
   "metadata": {},
   "outputs": [],
   "source": [
    "df_unseen['EDUCATION'].unique()"
   ]
  },
  {
   "cell_type": "code",
   "execution_count": 51,
   "id": "31e043b7",
   "metadata": {},
   "outputs": [],
   "source": [
    "df_unseen['GENDER'].unique()"
   ]
  },
  {
   "cell_type": "code",
   "execution_count": 52,
   "id": "b9877fcc",
   "metadata": {},
   "outputs": [],
   "source": [
    "df_unseen['last_prod_enq2'].unique()"
   ]
  },
  {
   "cell_type": "code",
   "execution_count": 53,
   "id": "c3e796a2",
   "metadata": {},
   "outputs": [],
   "source": [
    "df_unseen['first_prod_enq2'].unique()"
   ]
  },
  {
   "cell_type": "code",
   "execution_count": 54,
   "id": "4cf00608",
   "metadata": {},
   "outputs": [],
   "source": [
    "# Ordinal feature -- EDUCATION\n",
    "# SSC            : 1\n",
    "# 12TH           : 2\n",
    "# GRADUATE       : 3\n",
    "# UNDER GRADUATE : 3\n",
    "# POST-GRADUATE  : 4\n",
    "# OTHERS         : 1\n",
    "# PROFESSIONAL   : 3"
   ]
  },
  {
   "cell_type": "code",
   "execution_count": 55,
   "id": "2f9a315b",
   "metadata": {},
   "outputs": [],
   "source": [
    "df_unseen.loc[df['EDUCATION'] == 'SSC',['EDUCATION']]              = 1\n",
    "df_unseen.loc[df['EDUCATION'] == '12TH',['EDUCATION']]             = 2\n",
    "df_unseen.loc[df['EDUCATION'] == 'GRADUATE',['EDUCATION']]         = 3\n",
    "df_unseen.loc[df['EDUCATION'] == 'UNDER GRADUATE',['EDUCATION']]   = 3\n",
    "df_unseen.loc[df['EDUCATION'] == 'POST-GRADUATE',['EDUCATION']]    = 4\n",
    "df_unseen.loc[df['EDUCATION'] == 'OTHERS',['EDUCATION']]           = 1\n",
    "df_unseen.loc[df['EDUCATION'] == 'PROFESSIONAL',['EDUCATION']]     = 3"
   ]
  },
  {
   "cell_type": "code",
   "execution_count": 56,
   "id": "41a018a0",
   "metadata": {},
   "outputs": [],
   "source": [
    "df_unseen['EDUCATION'].value_counts()\n",
    "df_unseen['EDUCATION'] = df['EDUCATION'].astype(int)\n",
    "df_unseen.info()"
   ]
  },
  {
   "cell_type": "code",
   "execution_count": 57,
   "id": "f0794b37",
   "metadata": {},
   "outputs": [],
   "source": [
    "df_encoded_unseen = pd.get_dummies(df_unseen, columns=['MARITALSTATUS','GENDER', 'last_prod_enq2' ,'first_prod_enq2'])"
   ]
  },
  {
   "cell_type": "code",
   "execution_count": 58,
   "id": "1f52f2e3",
   "metadata": {},
   "outputs": [],
   "source": [
    "df_encoded_unseen.info()"
   ]
  },
  {
   "cell_type": "code",
   "execution_count": 59,
   "id": "a70cca3c",
   "metadata": {},
   "outputs": [],
   "source": [
    "k = df_encoded_unseen.describe()"
   ]
  },
  {
   "cell_type": "code",
   "execution_count": 60,
   "id": "01c5fd44",
   "metadata": {},
   "outputs": [],
   "source": [
    "# Best Hyperparameters: {'learning_rate': 0.2, 'max_depth': 3, 'n_estimators': 200}\n",
    "\n",
    "model = xgb.XGBClassifier(objective= 'multi:softmax',\n",
    "                          num_class = 4,\n",
    "                          learning_rate= 0.2,\n",
    "                          max_depth= 3,\n",
    "                          n_estimators= 200)"
   ]
  },
  {
   "cell_type": "code",
   "execution_count": 61,
   "id": "508cc897",
   "metadata": {},
   "outputs": [],
   "source": [
    "model.fit(x_train, y_train)"
   ]
  },
  {
   "cell_type": "code",
   "execution_count": 62,
   "id": "22593576",
   "metadata": {},
   "outputs": [],
   "source": [
    "y_pred_unseen = model.predict(df_encoded_unseen)"
   ]
  },
  {
   "cell_type": "code",
   "execution_count": 63,
   "id": "f3aca26f",
   "metadata": {},
   "outputs": [],
   "source": [
    "print(y_pred_unseen)"
   ]
  },
  {
   "cell_type": "code",
   "execution_count": 64,
   "id": "17776164",
   "metadata": {},
   "outputs": [],
   "source": [
    "mapping = {0: 'P1', 1: 'P2', 2: 'P3', 3: 'P4'}"
   ]
  },
  {
   "cell_type": "code",
   "execution_count": 65,
   "id": "45f0955b",
   "metadata": {},
   "outputs": [],
   "source": [
    "y_pred_mapped = [mapping[val] for val in y_pred_unseen]"
   ]
  },
  {
   "cell_type": "code",
   "execution_count": 66,
   "id": "33854da4",
   "metadata": {},
   "outputs": [],
   "source": [
    "print(y_pred_mapped)"
   ]
  },
  {
   "cell_type": "code",
   "execution_count": 67,
   "id": "a4ab086d",
   "metadata": {},
   "outputs": [],
   "source": [
    "a3['Target_variable'] = y_pred_mapped"
   ]
  },
  {
   "cell_type": "code",
   "execution_count": 68,
   "id": "7ae60bd5",
   "metadata": {},
   "outputs": [],
   "source": [
    "a3.sample(10)"
   ]
  },
  {
   "cell_type": "code",
   "execution_count": 69,
   "id": "a54e8b57",
   "metadata": {},
   "outputs": [],
   "source": [
    "a3.to_excel (\"C:\\\\Users\\\\HP\\\\OneDrive\\\\Desktop\\\\Credit_Risk_ML_Project\\\\Final_Prediction.xlsx\", index=False)"
   ]
  },
  {
   "cell_type": "code",
   "execution_count": 70,
   "id": "c47d4c61",
   "metadata": {},
   "outputs": [],
   "source": [
    "#print runtime\n",
    "\n",
    "end_time = time.time()\n",
    "elapsed_time = end_time - start_time\n",
    "print(\"Total run time of the program:\" + str(round(elapsed_time,2)) + ' sec')"
   ]
  }
 ],
 "metadata": {
  "kernelspec": {
   "display_name": "Python 3 (ipykernel)",
   "language": "python",
   "name": "python3"
  },
  "language_info": {
   "codemirror_mode": {
    "name": "ipython",
    "version": 3
   },
   "file_extension": ".py",
   "mimetype": "text/x-python",
   "name": "python",
   "nbconvert_exporter": "python",
   "pygments_lexer": "ipython3",
   "version": "3.11.3"
  }
 },
 "nbformat": 4,
 "nbformat_minor": 5
}
